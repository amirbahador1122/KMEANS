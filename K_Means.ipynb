{
 "cells": [
  {
   "cell_type": "code",
   "execution_count": null,
   "id": "12da78d9",
   "metadata": {},
   "outputs": [],
   "source": [
    "def K_Means(X, n_clusters, max_iter = 100):\n",
    "    distances = np.zeros((len(data), n_clusters))\n",
    "    init_centres_idx = random.sample(range(0, len(X)), n_clusters)\n",
    "    centres = X[init_centres_idx]\n",
    "    for i in range(max_iter):\n",
    "        for j in range(n_clusters):\n",
    "            distances[:,j] = np.sqrt(np.sum((X - centres[j])**2, axis = 1))\n",
    "        assignments = np.argmin(distances, axis = 1)\n",
    "        prev_centres = centres\n",
    "        for j in range(n_clusters):\n",
    "            centres[j,:] = np.sum(X[assignments == j], axis = 0)/np.sum(assignments == j) \n",
    "    return centres, assignments"
   ]
  }
 ],
 "metadata": {
  "kernelspec": {
   "display_name": "Python 3 (ipykernel)",
   "language": "python",
   "name": "python3"
  },
  "language_info": {
   "codemirror_mode": {
    "name": "ipython",
    "version": 3
   },
   "file_extension": ".py",
   "mimetype": "text/x-python",
   "name": "python",
   "nbconvert_exporter": "python",
   "pygments_lexer": "ipython3",
   "version": "3.9.12"
  }
 },
 "nbformat": 4,
 "nbformat_minor": 5
}
