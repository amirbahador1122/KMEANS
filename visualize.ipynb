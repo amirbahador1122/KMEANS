{
 "cells": [
  {
   "cell_type": "code",
   "execution_count": null,
   "id": "1d95229d",
   "metadata": {},
   "outputs": [],
   "source": [
    "def visualize(X, assignments):\n",
    "    import matplotlib.pyplot as plt\n",
    "     \n",
    "    plt.subplots()\n",
    "    plt.scatter(X[:,0], X[:,1])\n",
    "    plt.title('Before K_Means')\n",
    "    \n",
    "    plt.subplots()\n",
    "    plt.scatter(X[:,0], X[:,1], c=assignments)\n",
    "    for i in range(len(np.unique(assignments))):\n",
    "        plt.scatter(centres[i,0], centres[i,1], marker='x', color = 'red', s = 90)\n",
    "    plt.title('After K_Means')\n",
    "   "
   ]
  }
 ],
 "metadata": {
  "kernelspec": {
   "display_name": "Python 3 (ipykernel)",
   "language": "python",
   "name": "python3"
  },
  "language_info": {
   "codemirror_mode": {
    "name": "ipython",
    "version": 3
   },
   "file_extension": ".py",
   "mimetype": "text/x-python",
   "name": "python",
   "nbconvert_exporter": "python",
   "pygments_lexer": "ipython3",
   "version": "3.9.12"
  }
 },
 "nbformat": 4,
 "nbformat_minor": 5
}
